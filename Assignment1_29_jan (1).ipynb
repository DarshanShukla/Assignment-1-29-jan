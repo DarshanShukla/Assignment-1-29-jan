{
 "cells": [
  {
   "cell_type": "markdown",
   "id": "39a4c7c3-819d-4ae4-8805-9904f7ac57ff",
   "metadata": {},
   "source": [
    "\n",
    "1. Who developed Python Proramming Language?\n",
    "\n",
    "Answer - Python was created by Guido van Rossum, and first released on February 20, 1991"
   ]
  },
  {
   "cell_type": "markdown",
   "id": "40e1ed6b-9466-4cd2-8c80-0282b0a58b1f",
   "metadata": {},
   "source": [
    "\n",
    "2. Which type of Programming does Python support?\n",
    "\n",
    "Answer - Python is a multi-paradigm programming language. Object-oriented programming and structured programming are fully supported,\n",
    "        and many of their features support functional programming and aspect-oriented programming (including metaprogramming and metaobjects)."
   ]
  },
  {
   "cell_type": "markdown",
   "id": "fb67c9a1-cb61-42a6-92c1-6df2e9fbd6c8",
   "metadata": {},
   "source": [
    "\n",
    "3. Is Python case sensitive when dealing with identifiers?\n",
    "\n",
    "Answer - Yes, Python is a case-sensitive language, i.e., it treats uppercase and lowercase characters differently. This applies to identifiers too.\n",
    "        * Rules for Identifiers in Python\n",
    "            To construct a Python identifier, a few requirements must be fulfilled.\n",
    "\n",
    "           - Reserved keywords (special words used for a specific purpose, e.g., while, for, if, etc.) cannot be used as identifier names.\n",
    "           - Python identifiers can contain lowercase letters (a-z), uppercase letters (A-Z), numerals (0-9), and underscores ( _ ).\n",
    "             This means that Identifiers in Python cannot contain special characters except underscore in them.\n",
    "           - The name of the identifier cannot begin with a number.\n",
    "           - The name of a Python identifier can begin with an underscore.\n",
    "           - The length of the identifier name is unrestricted.\n",
    "           - The names of Python identifiers are case sensitive.\n"
   ]
  },
  {
   "cell_type": "markdown",
   "id": "45e85e7c-d01d-4ea2-8ec8-1c78d8410bf7",
   "metadata": {},
   "source": [
    "\n",
    "4. What is the correct extention of the Python file?\n",
    "\n",
    "Answer - '.py' is the correct extension of the Python file. Python programs can be written in any text editor.\n",
    "          To save these programs we need to save in files with file extension '.py'.\n"
   ]
  },
  {
   "cell_type": "markdown",
   "id": "4847e234-049a-4350-bb42-f9f42cd0098b",
   "metadata": {},
   "source": [
    "\n",
    "5. Is Python code is compiled or interpreted?\n",
    "\n",
    "Answer -Python is an interpreted language and not a compiled one, although compilation is a step. \n",
    "        Python code, written in .py file is first compiled to what is called bytecode which is stored with a .pyc or .pyo format.\n",
    "        Instead of translating source code to machine code like C++, Python code it translated to bytecode.\n",
    "        This bytecode is a low-level set of instructions that can be executed by an interpreter. \n",
    "        In most PCs, Python interpreter is installed at /usr/local/bin/python3.8.\n",
    "        Instead of executing the instructions on CPU, bytecode instructions are executed on a Virtual Machine.\n"
   ]
  },
  {
   "cell_type": "markdown",
   "id": "91624c8f-4a3a-4fc7-be34-726ed97450bd",
   "metadata": {},
   "source": [
    "\n",
    "6. Name a few blocks of code used to define in Python Language?\n",
    "\n",
    "Answer - 1. break, continue - break and continue are used inside for and while loops to alter their normal behavior.\n",
    "                              break will end the smallest loop it is in and control flows to the statement immediately below the loop. \n",
    "                              continue causes to end the current iteration of the loop, but not the whole loop.\n",
    "            \n",
    "        2. class - Class is a collection of related attributes and methods that try to represent a real-world situation. \n",
    "                   This idea of putting data and functions together in a class is central to the concept of object-oriented programming (OOP).\n",
    "                   \n",
    "        3. def - def is used to define a user-defined function.\n",
    "                 Function is a block of related statements, which together does some specific task. It helps us organize code into manageable chunks and also to do some repetitive task.\n",
    "                 \n",
    "        4. if, else, elif - if, else, elif are used for conditional branching or decision making.\n",
    "                            When we want to test some condition and execute a block only if the condition is true, then we use if and elif. \n",
    "                            elif is short for else if. else is the block which is executed if the condition is false.\n",
    "                \n",
    "        5. lambda - lambda is used to create an anonymous function (function with no name). It is an inline function that does not contain a return statement. \n",
    "                    It consists of an expression that is evaluated and returned.         \n",
    "        \n",
    "                            \n",
    "                            \n"
   ]
  },
  {
   "cell_type": "markdown",
   "id": "8aeccdb2-9610-4dfb-a70f-2cd7cb8a9ada",
   "metadata": {},
   "source": [
    "7. State a character used to give single-line comments in Python?\n",
    "\n",
    "Answer - We can write a single-line comment by adding a single # character before any statement or line of code.\n",
    "        In technical terms, comments are lines of code or statement that the interpreter or compiler ignores during execution. \n",
    "        These are used to write some programmer readable information/explanation about the code, which helps other programmers understand the code.\n",
    "    "
   ]
  },
  {
   "cell_type": "markdown",
   "id": "72c86a7c-a831-42ed-b412-1154a7758fc2",
   "metadata": {},
   "source": [
    "8. Mention functions which can help us to find the version of python that we are currently working on?\n",
    "\n",
    "Answer - Method 1. Using sys.version method:\n",
    "           \n",
    "             import sys\n",
    "             print(\"User Current Version:-\", sys.version)\n",
    "           \n",
    "         Method 2. Using python_version() function\n",
    "          \n",
    "            from platform import python_version\n",
    "            print(\"Current Python Version-\", python_version())\n",
    "            "
   ]
  },
  {
   "cell_type": "markdown",
   "id": "97c94efa-3330-44ae-85f5-a37ce757c2b4",
   "metadata": {},
   "source": [
    "9. Python supports the creation of anonymous functions at runtime, using a construct called _ _ _ _ _ \n",
    "\n",
    "Answer - lambda\n",
    "\n",
    "        lambda is used to create an anonymous function (function with no name). It is an inline function that does not contain a return statement. \n",
    "        It consists of an expression that is evaluated and returned.  "
   ]
  },
  {
   "cell_type": "markdown",
   "id": "9e7c1d1a-8607-4abd-9948-f10f6dafffc9",
   "metadata": {},
   "source": [
    "10. What does pip stand for python?\n",
    "\n",
    "Answer - PIP stands for Preferred Installer Program or PIP Installs Packages. It is a command line utility to install, reinstall, uninstall, upgrade the library whichever is required in code"
   ]
  },
  {
   "cell_type": "markdown",
   "id": "20eab2e1-d00b-4d40-a950-67940ff206af",
   "metadata": {},
   "source": [
    "11. Mention a few built-in functions in python?\n",
    "\n",
    "Answer- 1. dict() - Returns a dictionary (Array)\n",
    "\n",
    "2. input()  - Allowing user input\n",
    "\n",
    "3. len() - \tReturns the length of an object\n",
    "\n",
    "4. max() - Returns the largest item in an iterable\n",
    "\n",
    "5. print() - Returns the value of x to the power of y"
   ]
  },
  {
   "cell_type": "markdown",
   "id": "ebedeb3e-5582-4d26-9f7c-f52e9915a2a0",
   "metadata": {},
   "source": [
    "12. What is the maximum possible length of an identifier in Python ? \n",
    "\n",
    "Answer - Identifiers are the name given to variables, classes, methods, etc. \n",
    "\n",
    "An identifier can have a maximum length of 79 characters in Python. "
   ]
  },
  {
   "cell_type": "markdown",
   "id": "fed90bd5-d4b9-4d92-b58a-4aa3d30a1c65",
   "metadata": {},
   "source": [
    "13. What are the benefits of using Python? \n",
    "\n",
    "Answer - 1. Extensive support libraries(NumPy for numerical calculations, Pandas for data analytics, etc.) \n",
    "\n",
    "2. Open source and large active community base \n",
    "\n",
    "3. Versatile, Easy to read, learn and write\n",
    "\n",
    "4. User-friendly data structures \n",
    "\n",
    "5. High-level language \n",
    "\n",
    "6. Dynamically typed language(No need to mention data type based on the value assigned, it takes data type) \n",
    "\n",
    "7. Object-Oriented and Procedural  Programming language\n",
    "\n",
    "8. Interpreted Language\n"
   ]
  },
  {
   "cell_type": "markdown",
   "id": "aa8c01d8-9da2-47a0-aa3d-84cfe215635b",
   "metadata": {},
   "source": [
    "14. How is memory managed in Python? \n",
    "\n",
    "Answer - Python has a private heap space which manages the memory in python. Programmer does not have access to heap space. \n",
    "Python has it's own garbage collecter which recycle all the unused memory, so that it can be availble to the heap space. "
   ]
  },
  {
   "cell_type": "markdown",
   "id": "c8ce70b1-1145-4e73-a8e0-2138e29e2261",
   "metadata": {},
   "source": [
    "15. How to install Python on windows and set path variables ?\n",
    "\n",
    "Answer - These are the following steps to install Python in Windows - \n",
    "1. Install Python from https://www.python.org/downloads/.\n",
    "\n",
    "2. Then look for the location where Python has been install using the following command : cmd python. \n",
    "\n",
    "3. Then go to advanced system settings and add a new variable and name it as PYTHON_NAME and paste the copied path.\n",
    "\n",
    "4. Look for the path variable, select its value and select 'edit'.\n",
    "\n",
    "5. Add a semicolon towards the end of the value if it's not present and then type %PYTHON_HOME% "
   ]
  },
  {
   "cell_type": "markdown",
   "id": "2cc0c0bd-510d-407a-b82f-172301274dce",
   "metadata": {},
   "source": [
    "16. Is indentation required in python? \n",
    "\n",
    "Answer - Indentation is necessary for Python. It specifies a block of a code. All code within loops, classes , functions, etc is specified within an indented block. It is usually done using four space characters. If your code is not indented necessarily, it will not execute accurately and will throw errors as well."
   ]
  },
  {
   "cell_type": "code",
   "execution_count": null,
   "id": "1379bae4-fb26-46c7-8c00-1b300cf8eff3",
   "metadata": {},
   "outputs": [],
   "source": []
  }
 ],
 "metadata": {
  "kernelspec": {
   "display_name": "Python 3 (ipykernel)",
   "language": "python",
   "name": "python3"
  },
  "language_info": {
   "codemirror_mode": {
    "name": "ipython",
    "version": 3
   },
   "file_extension": ".py",
   "mimetype": "text/x-python",
   "name": "python",
   "nbconvert_exporter": "python",
   "pygments_lexer": "ipython3",
   "version": "3.10.8"
  }
 },
 "nbformat": 4,
 "nbformat_minor": 5
}
